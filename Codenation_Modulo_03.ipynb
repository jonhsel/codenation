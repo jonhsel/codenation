{
  "nbformat": 4,
  "nbformat_minor": 0,
  "metadata": {
    "colab": {
      "name": "Codenation Modulo 03",
      "provenance": [],
      "private_outputs": true,
      "mount_file_id": "1WeWSadSu-FzJW-9FQhxemgwhHNHu0bq9",
      "authorship_tag": "ABX9TyObvEqVHSxTC/I6lHsXb6DV",
      "include_colab_link": true
    },
    "kernelspec": {
      "name": "python3",
      "display_name": "Python 3"
    }
  },
  "cells": [
    {
      "cell_type": "markdown",
      "metadata": {
        "id": "view-in-github",
        "colab_type": "text"
      },
      "source": [
        "<a href=\"https://colab.research.google.com/github/jonhsel/codenation/blob/master/Codenation_Modulo_03.ipynb\" target=\"_parent\"><img src=\"https://colab.research.google.com/assets/colab-badge.svg\" alt=\"Open In Colab\"/></a>"
      ]
    },
    {
      "cell_type": "code",
      "metadata": {
        "id": "J_yOmymOOiY1",
        "colab_type": "code",
        "colab": {}
      },
      "source": [
        "#definição do caminho\n",
        "PATH = \"/content/drive/My Drive/Colab Notebooks/dataset/datasets_554905_1035602_houses_to_rent_v2.csv\""
      ],
      "execution_count": null,
      "outputs": []
    },
    {
      "cell_type": "code",
      "metadata": {
        "id": "J2zYuhJAPFQg",
        "colab_type": "code",
        "colab": {}
      },
      "source": [
        "#bibliotecas necessárias\n",
        "import pandas as pd\n"
      ],
      "execution_count": null,
      "outputs": []
    },
    {
      "cell_type": "code",
      "metadata": {
        "id": "kxYQHyXfPLcr",
        "colab_type": "code",
        "colab": {}
      },
      "source": [
        "#definição do DataFrame\n",
        "df = pd.read_csv(PATH)"
      ],
      "execution_count": null,
      "outputs": []
    },
    {
      "cell_type": "code",
      "metadata": {
        "id": "fbkjP7spPSPi",
        "colab_type": "code",
        "colab": {}
      },
      "source": [
        "df.head()"
      ],
      "execution_count": null,
      "outputs": []
    },
    {
      "cell_type": "code",
      "metadata": {
        "id": "ZqYBeDl0PUW-",
        "colab_type": "code",
        "colab": {}
      },
      "source": [
        "df.info()"
      ],
      "execution_count": null,
      "outputs": []
    },
    {
      "cell_type": "code",
      "metadata": {
        "id": "lXuZUR0_PdYy",
        "colab_type": "code",
        "colab": {}
      },
      "source": [
        "df.describe()"
      ],
      "execution_count": null,
      "outputs": []
    },
    {
      "cell_type": "code",
      "metadata": {
        "id": "Z2GNtdxhPoFe",
        "colab_type": "code",
        "colab": {}
      },
      "source": [
        ""
      ],
      "execution_count": null,
      "outputs": []
    },
    {
      "cell_type": "markdown",
      "metadata": {
        "id": "Ck9Xl1IgUwEK",
        "colab_type": "text"
      },
      "source": [
        "#PERGUNTAS\n",
        "\n",
        "Qual a cidade com a média de aluguel mais caro?\n",
        "\n",
        "Quantos banheiros existem nas residencias com aluguel mais caros?\n",
        "\n",
        "Os mais caros permitem animais?\n",
        "\n",
        "Os alugueis mais caros são mobilidados?\n",
        "\n"
      ]
    },
    {
      "cell_type": "markdown",
      "metadata": {
        "id": "LX3V2o1aWBRu",
        "colab_type": "text"
      },
      "source": [
        "#HIPÓTESES\n",
        "\n",
        "São Paulo possui o aluguel mais caro!\n",
        "\n",
        "Quanto mais banheiros, mais caro o imóvel.\n",
        "\n",
        "Imóveis mobiliados são mais caros."
      ]
    },
    {
      "cell_type": "code",
      "metadata": {
        "id": "RVLejRR5WTXd",
        "colab_type": "code",
        "colab": {}
      },
      "source": [
        "#renomear coluna\n",
        "df.columns"
      ],
      "execution_count": null,
      "outputs": []
    },
    {
      "cell_type": "code",
      "metadata": {
        "id": "BwGE9nF1Xo0k",
        "colab_type": "code",
        "colab": {}
      },
      "source": [
        "df.rename(columns = {'rent amount (R$)': 'aluguel'}, inplace=True)"
      ],
      "execution_count": null,
      "outputs": []
    },
    {
      "cell_type": "code",
      "metadata": {
        "id": "jdqSw0VuX48X",
        "colab_type": "code",
        "colab": {}
      },
      "source": [
        "df.columns"
      ],
      "execution_count": null,
      "outputs": []
    },
    {
      "cell_type": "markdown",
      "metadata": {
        "id": "ieJ32bCrYFzh",
        "colab_type": "text"
      },
      "source": [
        "##Qual a cidade com media de aluguel mais caro?"
      ]
    },
    {
      "cell_type": "code",
      "metadata": {
        "id": "iPl1ZFFlX7f8",
        "colab_type": "code",
        "colab": {}
      },
      "source": [
        "#agrupar por cidades e  vendo a media dos alugueis\n",
        "df.groupby('city')['aluguel'].mean()"
      ],
      "execution_count": null,
      "outputs": []
    },
    {
      "cell_type": "code",
      "metadata": {
        "id": "w6WAXkg-YQiQ",
        "colab_type": "code",
        "colab": {}
      },
      "source": [
        "#ordenar por ordem decrescente\n",
        "df.groupby('city')['aluguel'].mean().sort_values(ascending=False)"
      ],
      "execution_count": null,
      "outputs": []
    },
    {
      "cell_type": "code",
      "metadata": {
        "id": "bxlTCZBVYtoL",
        "colab_type": "code",
        "colab": {}
      },
      "source": [
        ""
      ],
      "execution_count": null,
      "outputs": []
    },
    {
      "cell_type": "markdown",
      "metadata": {
        "id": "rzASJ40kY2eC",
        "colab_type": "text"
      },
      "source": [
        "\n",
        "\n",
        "```\n",
        " Podemos afirmar que São Paulo possui a média de aluguel mais caro.\n",
        "```\n",
        "\n"
      ]
    },
    {
      "cell_type": "markdown",
      "metadata": {
        "id": "yzTOVydMZh45",
        "colab_type": "text"
      },
      "source": [
        "## Quantos banheiros existem nas residencias com aluguel mais caros?\n"
      ]
    },
    {
      "cell_type": "markdown",
      "metadata": {
        "id": "uKM7Rdv9ZkFo",
        "colab_type": "text"
      },
      "source": [
        "O que é aluguel mais caro?\n"
      ]
    },
    {
      "cell_type": "code",
      "metadata": {
        "id": "O33SQi3Hc52e",
        "colab_type": "code",
        "colab": {}
      },
      "source": [
        "import matplotlib.pyplot as plt\n"
      ],
      "execution_count": null,
      "outputs": []
    },
    {
      "cell_type": "code",
      "metadata": {
        "id": "n83Uw25zY8uX",
        "colab_type": "code",
        "colab": {}
      },
      "source": [
        "#vamos tentar separar as faixas de aluguel\n",
        "fig, ax = plt.subplots(figsize = (10,5))\n",
        "\n",
        "ax.boxplot(df.loc[df['aluguel']< 6500]['aluguel'], data=df)\n",
        "ax.grid()\n",
        "plt.show()"
      ],
      "execution_count": null,
      "outputs": []
    },
    {
      "cell_type": "code",
      "metadata": {
        "id": "ewVezKShdSa-",
        "colab_type": "code",
        "colab": {}
      },
      "source": [
        "df.aluguel.describe()"
      ],
      "execution_count": null,
      "outputs": []
    },
    {
      "cell_type": "code",
      "metadata": {
        "id": "pJxEP3jheQuF",
        "colab_type": "code",
        "colab": {}
      },
      "source": [
        "df['aluguel_alto'] = ['Alto' if x > 5000 else 'Baixo' for x in df.aluguel]"
      ],
      "execution_count": null,
      "outputs": []
    },
    {
      "cell_type": "code",
      "metadata": {
        "id": "PoUvhHF5e64V",
        "colab_type": "code",
        "colab": {}
      },
      "source": [
        "df.aluguel_alto.head()"
      ],
      "execution_count": null,
      "outputs": []
    },
    {
      "cell_type": "code",
      "metadata": {
        "id": "blufiltogpo7",
        "colab_type": "code",
        "colab": {}
      },
      "source": [
        "df.aluguel_alto.value_counts()"
      ],
      "execution_count": null,
      "outputs": []
    },
    {
      "cell_type": "code",
      "metadata": {
        "id": "mEBqlSvYg0hW",
        "colab_type": "code",
        "colab": {}
      },
      "source": [
        "df.groupby('aluguel_alto')['bathroom'].mean()"
      ],
      "execution_count": null,
      "outputs": []
    },
    {
      "cell_type": "markdown",
      "metadata": {
        "id": "EziII227howo",
        "colab_type": "text"
      },
      "source": [
        "Em média os imóveis com aluguel mais caro, possuem 4 banheiros e os mais baratos, 02 banheiros."
      ]
    },
    {
      "cell_type": "code",
      "metadata": {
        "id": "lrfq8KnhhkX0",
        "colab_type": "code",
        "colab": {}
      },
      "source": [
        ""
      ],
      "execution_count": null,
      "outputs": []
    },
    {
      "cell_type": "markdown",
      "metadata": {
        "id": "Gd9djVt8h3rJ",
        "colab_type": "text"
      },
      "source": [
        "##Os imóveis de aluguel mais caros permitem animais?\n"
      ]
    },
    {
      "cell_type": "code",
      "metadata": {
        "id": "ggLkvapOh8Er",
        "colab_type": "code",
        "colab": {}
      },
      "source": [
        "df.columns"
      ],
      "execution_count": null,
      "outputs": []
    },
    {
      "cell_type": "code",
      "metadata": {
        "id": "pIgUVXpFiYi4",
        "colab_type": "code",
        "colab": {}
      },
      "source": [
        "x1 = df.loc[df['aluguel_alto']=='Alto']"
      ],
      "execution_count": null,
      "outputs": []
    },
    {
      "cell_type": "code",
      "metadata": {
        "id": "nzwy0xJKioRR",
        "colab_type": "code",
        "colab": {}
      },
      "source": [
        "x =df.loc[df['aluguel_alto']=='Alto']['animal'].value_counts()"
      ],
      "execution_count": null,
      "outputs": []
    },
    {
      "cell_type": "markdown",
      "metadata": {
        "id": "-I-hLnZfk4N7",
        "colab_type": "text"
      },
      "source": [
        "A grande maiori"
      ]
    },
    {
      "cell_type": "code",
      "metadata": {
        "id": "VndzTYKPkCya",
        "colab_type": "code",
        "colab": {}
      },
      "source": [
        "print('Aceita animais : {:.2f}%'.format(x[0]/x1.shape[0] * 100))\n",
        "print('Aceita animais : {:.2f}%'.format(x[1]/x1.shape[0] * 100))"
      ],
      "execution_count": null,
      "outputs": []
    },
    {
      "cell_type": "markdown",
      "metadata": {
        "id": "jzfgsLrgmjtv",
        "colab_type": "text"
      },
      "source": [
        "82% dos imóveis com aluguel mais alto permitem animais\""
      ]
    },
    {
      "cell_type": "code",
      "metadata": {
        "id": "vqdvwkAlljd5",
        "colab_type": "code",
        "colab": {}
      },
      "source": [
        "df[['aluguel', 'bathroom']].corr(method = 'spearman')"
      ],
      "execution_count": null,
      "outputs": []
    },
    {
      "cell_type": "code",
      "metadata": {
        "id": "GJv3wr8Kls9h",
        "colab_type": "code",
        "colab": {}
      },
      "source": [
        ""
      ],
      "execution_count": null,
      "outputs": []
    }
  ]
}